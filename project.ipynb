{
 "cells": [
  {
   "cell_type": "code",
   "execution_count": null,
   "metadata": {},
   "outputs": [],
   "source": [
    "import quandl\n",
    "import matplotlib.pyplot as plt\n",
    "from mpl_finance import candlestick_ohlc\n",
    "import matplotlib.dates as mdates\n",
    "import numpy as np\n",
    "quandl.ApiConfig.api_key = 's_YHBWCvr5YJr3-2ifzU' # key "
   ]
  },
  {
   "cell_type": "code",
   "execution_count": null,
   "metadata": {},
   "outputs": [],
   "source": [
    "data = quandl.get('EURONEXT/', start_date='2018-01-02', end_date='2018-12-04')"
   ]
  },
  {
   "cell_type": "code",
   "execution_count": null,
   "metadata": {},
   "outputs": [],
   "source": [
    "data.Close.plot()\n",
    "plt.show()"
   ]
  },
  {
   "cell_type": "code",
   "execution_count": null,
   "metadata": {},
   "outputs": [],
   "source": [
    "data_analysis = data"
   ]
  },
  {
   "cell_type": "markdown",
   "metadata": {},
   "source": [
    "# basic analysis"
   ]
  },
  {
   "cell_type": "code",
   "execution_count": null,
   "metadata": {},
   "outputs": [],
   "source": [
    "data_analysis['100ma'] = data_analysis['Close'].rolling(window=100,min_periods=0).mean()\n",
    "# this is used to compute the average for pass 100 price (including itself)\n",
    "\n",
    "ax1 = plt.subplot2grid((6,1),(0,0),rowspan=5,colspan=1)\n",
    "ax2 = plt.subplot2grid((6,1),(5,0),rowspan=5,colspan=1,sharex=ax1)\n",
    "ax1.plot(data.index,data_analysis['Close'])\n",
    "ax1.plot(data.index,data_analysis['100ma'])\n",
    "ax2.plot(data.index,data_analysis['Total Trade Quantity'])\n",
    "plt.show()"
   ]
  },
  {
   "cell_type": "code",
   "execution_count": null,
   "metadata": {},
   "outputs": [],
   "source": [
    "data_ohlc = data_analysis['Close'].resample('10D').ohlc()\n",
    "data_volume = data_analysis['Total Trade Quantity'].resample('10D').sum()\n",
    "data_ohlc.reset_index(inplace=True) # the index should be 0 1 2 ....\n",
    "data_ohlc['Date'] = data_ohlc['Date'].map(mdates.date2num) # transfer datetime to timestamp\n",
    "\n",
    "ax1 = plt.subplot2grid((6,1),(0,0),rowspan=5,colspan=1)\n",
    "ax2 = plt.subplot2grid((6,1),(5,0),rowspan=5,colspan=1,sharex=ax1)\n",
    "ax1.xaxis_date()\n",
    "candlestick_ohlc(ax1,data_ohlc.values,width=2,colorup='g')\n",
    "ax2.fill_between(data_volume.index.map(mdates.date2num),data_volume.values,0)\n",
    "plt.show() ## candlestick graph"
   ]
  },
  {
   "cell_type": "markdown",
   "metadata": {},
   "source": [
    "## calculation of Relative Strength index(RSI)"
   ]
  },
  {
   "cell_type": "code",
   "execution_count": null,
   "metadata": {},
   "outputs": [],
   "source": [
    "TechIndicator = data.copy()"
   ]
  },
  {
   "cell_type": "code",
   "execution_count": null,
   "metadata": {},
   "outputs": [],
   "source": [
    "# Relative Strength Index\n",
    "# Avg(PriceUp)/(Avg(PriceUP)+Avg(PriceDown)*100\n",
    "# Where: PriceUp(t)=1*(Price(t)-Price(t-1)){Price(t)- Price(t-1)>0};\n",
    "#        PriceDown(t)=-1*(Price(t)-Price(t-1)){Price(t)- Price(t-1)<0};\n",
    "\n",
    "def rsi(values):\n",
    "    up = values[values>0].mean()\n",
    "    down = -1*values[values<0].mean()\n",
    "    return 100 * up / (up + down)"
   ]
  },
  {
   "cell_type": "code",
   "execution_count": null,
   "metadata": {},
   "outputs": [],
   "source": [
    "# Add Momentum_1D column for all 15 stocks.\n",
    "# Momentum_1D = P(t) - P(t-1)\n",
    "TechIndicator['Momentum_1D'] = (TechIndicator['Close']-TechIndicator['Close'].shift(1)).fillna(0)\n",
    "TechIndicator['RSI_14D'] = TechIndicator['Momentum_1D'].rolling(center=False, window=14).apply(rsi).fillna(0)\n",
    "TechIndicator.tail(5)"
   ]
  },
  {
   "cell_type": "markdown",
   "metadata": {},
   "source": [
    "## Calculation of Bollinger Bands"
   ]
  },
  {
   "cell_type": "code",
   "execution_count": null,
   "metadata": {},
   "outputs": [],
   "source": [
    "def bbands(price, length=30, numsd=2):\n",
    "    \"\"\" returns average, upper band, and lower band\"\"\"\n",
    "    #ave = pd.stats.moments.rolling_mean(price,length)\n",
    "    ave = price.rolling(window = length, center = False).mean()\n",
    "    #sd = pd.stats.moments.rolling_std(price,length)\n",
    "    sd = price.rolling(window = length, center = False).std()\n",
    "    upband = ave + (sd*numsd)\n",
    "    dnband = ave - (sd*numsd)\n",
    "    return np.round(ave,3), np.round(upband,3), np.round(dnband,3)"
   ]
  },
  {
   "cell_type": "code",
   "execution_count": null,
   "metadata": {
    "scrolled": true
   },
   "outputs": [],
   "source": [
    "TechIndicator['BB_Middle_Band'], TechIndicator['BB_Upper_Band'], TechIndicator['BB_Lower_Band'] = bbands(TechIndicator['Close'], length=20, numsd=1)\n",
    "TechIndicator['BB_Middle_Band'] = TechIndicator['BB_Middle_Band'].fillna(0)\n",
    "TechIndicator['BB_Upper_Band'] = TechIndicator['BB_Upper_Band'].fillna(0)\n",
    "TechIndicator['BB_Lower_Band'] = TechIndicator['BB_Lower_Band'].fillna(0)\n",
    "TechIndicator.tail()"
   ]
  },
  {
   "cell_type": "markdown",
   "metadata": {},
   "source": [
    "## Calculation of Aroon Oscillator"
   ]
  },
  {
   "cell_type": "code",
   "execution_count": null,
   "metadata": {},
   "outputs": [],
   "source": [
    "def aroon(df, tf=25):\n",
    "    aroonup = []\n",
    "    aroondown = []\n",
    "    x = tf\n",
    "    while x< len(df['High']):\n",
    "        aroon_up = ((df['High'][x-tf:x].tolist().index(max(df['High'][x-tf:x])))/float(tf))*100\n",
    "        aroon_down = ((df['Low'][x-tf:x].tolist().index(min(df['Low'][x-tf:x])))/float(tf))*100\n",
    "        aroonup.append(aroon_up)\n",
    "        aroondown.append(aroon_down)\n",
    "        x+=1\n",
    "    return aroonup, aroondown"
   ]
  },
  {
   "cell_type": "code",
   "execution_count": null,
   "metadata": {},
   "outputs": [],
   "source": [
    "listofzeros = [0] * 25\n",
    "up, down = aroon(TechIndicator)\n",
    "aroon_list = [x - y for x, y in zip(up,down)]\n",
    "if len(aroon_list)==0:\n",
    "    aroon_list = [0] * TechIndicator.shape[0]\n",
    "    TechIndicator['Aroon_Oscillator'] = aroon_list\n",
    "else:\n",
    "    TechIndicator['Aroon_Oscillator'] = listofzeros+aroon_list"
   ]
  },
  {
   "cell_type": "markdown",
   "metadata": {},
   "source": [
    "## Calculation of Price Volume Trend\n",
    "PVT = [((CurrentClose - PreviousClose) / PreviousClose) x Volume] + PreviousPVT"
   ]
  },
  {
   "cell_type": "code",
   "execution_count": null,
   "metadata": {},
   "outputs": [],
   "source": [
    "TechIndicator[\"PVT\"] = (TechIndicator['Momentum_1D']/ TechIndicator['Close'].shift(1))*TechIndicator['Total Trade Quantity']\n",
    "TechIndicator[\"PVT\"] = TechIndicator[\"PVT\"]-TechIndicator[\"PVT\"].shift(1)\n",
    "TechIndicator[\"PVT\"] = TechIndicator[\"PVT\"].fillna(0)"
   ]
  },
  {
   "cell_type": "markdown",
   "metadata": {},
   "source": [
    "## Calculation of Acceleration Bands"
   ]
  },
  {
   "cell_type": "markdown",
   "metadata": {},
   "source": [
    "# Input data from yahoo "
   ]
  },
  {
   "cell_type": "code",
   "execution_count": 3,
   "metadata": {},
   "outputs": [],
   "source": [
    "import pandas as pd\n",
    "from datetime import datetime\n",
    "from datetime import timedelta\n",
    "from pandas_datareader import data as pdr\n",
    "import fix_yahoo_finance as yf\n",
    "yf.pdr_override()\n"
   ]
  },
  {
   "cell_type": "markdown",
   "metadata": {},
   "source": [
    "Since we don't have the tickers names of companies in LSE(London Stock Exchange), we need to input all tickers names at first "
   ]
  },
  {
   "cell_type": "code",
   "execution_count": 4,
   "metadata": {},
   "outputs": [],
   "source": [
    "data = pd.read_csv('LSE.txt')"
   ]
  },
  {
   "cell_type": "code",
   "execution_count": 5,
   "metadata": {},
   "outputs": [],
   "source": [
    "def splitTicker(row):\n",
    "    splitname = row['Symbol\\tDescription'].split('\\t')\n",
    "    return splitname[0]\n",
    "def splitCompany(row):\n",
    "    splitname = row['Symbol\\tDescription'].split('\\t')\n",
    "    return splitname[1]\n",
    "def lowerName(row):\n",
    "    new_name =  row['company_name'].lower()\n",
    "    return new_name\n",
    "def transferDatetime(row):\n",
    "   \n",
    "    time = datetime.strptime(str(row['addmission_time']), '%d/%m/%Y')\n",
    "    return time\n",
    "\n",
    "def filterAddmissionTime(data,past_time):\n",
    "    return data[data['addmission_time']<=past_time]"
   ]
  },
  {
   "cell_type": "code",
   "execution_count": 6,
   "metadata": {},
   "outputs": [
    {
     "data": {
      "text/plain": [
       "0    statoilhydro asa 6.125% notes 27/11/28 gbp(var)\n",
       "1                                 baywa ag npv(vink)\n",
       "2                       crcam nord de france eur3.05\n",
       "3                                 carlsberg `a`dkk20\n",
       "4                                 carlsberg `b`dkk20\n",
       "Name: company_name, dtype: object"
      ]
     },
     "execution_count": 6,
     "metadata": {},
     "output_type": "execute_result"
    }
   ],
   "source": [
    "data['ticker']= data.apply(splitTicker,axis=1)\n",
    "data['company_name'] = data.apply(splitCompany,axis=1)\n",
    "data['company_name'] = data.apply(lowerName,axis=1)\n",
    "data['company_name'].head()"
   ]
  },
  {
   "cell_type": "code",
   "execution_count": 7,
   "metadata": {},
   "outputs": [],
   "source": [
    "company = pd.read_csv('company.csv')\n",
    "company = company[['Unnamed: 1','Unnamed: 2']][5:-2]\n",
    "company.columns=['addmission_time','company_name']\n",
    "company['company_name'] = company.apply(lowerName,axis=1)\n",
    "company.dropna(inplace=True)\n",
    "company['addmission_time'] = company.apply(transferDatetime,axis=1)"
   ]
  },
  {
   "cell_type": "code",
   "execution_count": 8,
   "metadata": {},
   "outputs": [
    {
     "data": {
      "text/html": [
       "<div>\n",
       "<style scoped>\n",
       "    .dataframe tbody tr th:only-of-type {\n",
       "        vertical-align: middle;\n",
       "    }\n",
       "\n",
       "    .dataframe tbody tr th {\n",
       "        vertical-align: top;\n",
       "    }\n",
       "\n",
       "    .dataframe thead th {\n",
       "        text-align: right;\n",
       "    }\n",
       "</style>\n",
       "<table border=\"1\" class=\"dataframe\">\n",
       "  <thead>\n",
       "    <tr style=\"text-align: right;\">\n",
       "      <th></th>\n",
       "      <th>addmission_time</th>\n",
       "      <th>company_name</th>\n",
       "      <th>ticker</th>\n",
       "    </tr>\n",
       "  </thead>\n",
       "  <tbody>\n",
       "    <tr>\n",
       "      <th>0</th>\n",
       "      <td>2006-08-02 00:00:00</td>\n",
       "      <td>1pm plc</td>\n",
       "      <td>OPM.L</td>\n",
       "    </tr>\n",
       "    <tr>\n",
       "      <th>1</th>\n",
       "      <td>2009-02-02 00:00:00</td>\n",
       "      <td>1spatial plc</td>\n",
       "      <td>SPA.L</td>\n",
       "    </tr>\n",
       "    <tr>\n",
       "      <th>2</th>\n",
       "      <td>1994-07-18 00:00:00</td>\n",
       "      <td>3i group plc</td>\n",
       "      <td>III.L</td>\n",
       "    </tr>\n",
       "    <tr>\n",
       "      <th>3</th>\n",
       "      <td>2014-02-18 00:00:00</td>\n",
       "      <td>4d pharma plc</td>\n",
       "      <td>DDDD.L</td>\n",
       "    </tr>\n",
       "    <tr>\n",
       "      <th>4</th>\n",
       "      <td>1953-03-13 00:00:00</td>\n",
       "      <td>4imprint group plc</td>\n",
       "      <td>FOUR.L</td>\n",
       "    </tr>\n",
       "  </tbody>\n",
       "</table>\n",
       "</div>"
      ],
      "text/plain": [
       "       addmission_time        company_name  ticker\n",
       "0  2006-08-02 00:00:00             1pm plc   OPM.L\n",
       "1  2009-02-02 00:00:00        1spatial plc   SPA.L\n",
       "2  1994-07-18 00:00:00        3i group plc   III.L\n",
       "3  2014-02-18 00:00:00       4d pharma plc  DDDD.L\n",
       "4  1953-03-13 00:00:00  4imprint group plc  FOUR.L"
      ]
     },
     "execution_count": 8,
     "metadata": {},
     "output_type": "execute_result"
    }
   ],
   "source": [
    "cleaned_data = company.merge(data,on=['company_name']).drop(columns='Symbol\\tDescription')\n",
    "cleaned_data.head()"
   ]
  },
  {
   "cell_type": "code",
   "execution_count": 9,
   "metadata": {},
   "outputs": [],
   "source": [
    "past_time = datetime.now()-timedelta(days=3650)\n",
    "\n",
    "filtered_date = filterAddmissionTime(cleaned_data,past_time)"
   ]
  },
  {
   "cell_type": "code",
   "execution_count": 10,
   "metadata": {},
   "outputs": [],
   "source": [
    "tickers_list =  list(filtered_date['ticker'])"
   ]
  },
  {
   "cell_type": "code",
   "execution_count": null,
   "metadata": {},
   "outputs": [],
   "source": [
    "pdr.get_data_yahoo(tickers=tickers_list,start=past_time,end=datetime.now())"
   ]
  },
  {
   "cell_type": "code",
   "execution_count": null,
   "metadata": {},
   "outputs": [],
   "source": [
    "tickers_list"
   ]
  }
 ],
 "metadata": {
  "kernelspec": {
   "display_name": "Python 3",
   "language": "python",
   "name": "python3"
  },
  "language_info": {
   "codemirror_mode": {
    "name": "ipython",
    "version": 3
   },
   "file_extension": ".py",
   "mimetype": "text/x-python",
   "name": "python",
   "nbconvert_exporter": "python",
   "pygments_lexer": "ipython3",
   "version": "3.6.5"
  }
 },
 "nbformat": 4,
 "nbformat_minor": 2
}
