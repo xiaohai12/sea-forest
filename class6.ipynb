{
 "cells": [
  {
   "cell_type": "code",
   "execution_count": 2,
   "metadata": {},
   "outputs": [],
   "source": [
    "import multiprocessing\n",
    "import pandas as pd\n",
    "import gzip\n",
    "import glob\n",
    "import dask"
   ]
  },
  {
   "cell_type": "code",
   "execution_count": 3,
   "metadata": {},
   "outputs": [],
   "source": [
    "numthreads = multiprocessing.cpu_count()\n",
    "pool = multiprocessing.Pool(processes=numthreads)"
   ]
  },
  {
   "cell_type": "code",
   "execution_count": 20,
   "metadata": {},
   "outputs": [],
   "source": [
    "allfiles=glob.glob(\"intraday/*.csv.gz\")"
   ]
  },
  {
   "cell_type": "code",
   "execution_count": 21,
   "metadata": {},
   "outputs": [],
   "source": [
    "def data_get(file_name):\n",
    "    #Data = []\n",
    "   # for file_name in file_name_list:\n",
    "    with gzip.open(file_name) as f:\n",
    "        data = pd.read_csv(f)\n",
    "            #Data.append(data)\n",
    "    return data\n"
   ]
  },
  {
   "cell_type": "code",
   "execution_count": 24,
   "metadata": {},
   "outputs": [
    {
     "data": {
      "text/html": [
       "<div>\n",
       "<style scoped>\n",
       "    .dataframe tbody tr th:only-of-type {\n",
       "        vertical-align: middle;\n",
       "    }\n",
       "\n",
       "    .dataframe tbody tr th {\n",
       "        vertical-align: top;\n",
       "    }\n",
       "\n",
       "    .dataframe thead th {\n",
       "        text-align: right;\n",
       "    }\n",
       "</style>\n",
       "<table border=\"1\" class=\"dataframe\">\n",
       "  <thead>\n",
       "    <tr style=\"text-align: right;\">\n",
       "      <th></th>\n",
       "      <th>date</th>\n",
       "      <th>second</th>\n",
       "      <th>bid</th>\n",
       "      <th>bidQ</th>\n",
       "      <th>ask</th>\n",
       "      <th>askQ</th>\n",
       "      <th>last</th>\n",
       "      <th>lastQ</th>\n",
       "    </tr>\n",
       "  </thead>\n",
       "  <tbody>\n",
       "    <tr>\n",
       "      <th>0</th>\n",
       "      <td>42674</td>\n",
       "      <td>14400.072</td>\n",
       "      <td>212.54</td>\n",
       "      <td>4</td>\n",
       "      <td>214.66</td>\n",
       "      <td>3</td>\n",
       "      <td>-1.0</td>\n",
       "      <td>-1</td>\n",
       "    </tr>\n",
       "    <tr>\n",
       "      <th>1</th>\n",
       "      <td>42674</td>\n",
       "      <td>14400.073</td>\n",
       "      <td>212.54</td>\n",
       "      <td>4</td>\n",
       "      <td>213.60</td>\n",
       "      <td>1</td>\n",
       "      <td>-1.0</td>\n",
       "      <td>-1</td>\n",
       "    </tr>\n",
       "    <tr>\n",
       "      <th>2</th>\n",
       "      <td>42674</td>\n",
       "      <td>14400.075</td>\n",
       "      <td>212.85</td>\n",
       "      <td>39</td>\n",
       "      <td>213.40</td>\n",
       "      <td>40</td>\n",
       "      <td>-1.0</td>\n",
       "      <td>-1</td>\n",
       "    </tr>\n",
       "    <tr>\n",
       "      <th>3</th>\n",
       "      <td>42674</td>\n",
       "      <td>14400.102</td>\n",
       "      <td>212.85</td>\n",
       "      <td>39</td>\n",
       "      <td>213.30</td>\n",
       "      <td>50</td>\n",
       "      <td>-1.0</td>\n",
       "      <td>-1</td>\n",
       "    </tr>\n",
       "    <tr>\n",
       "      <th>4</th>\n",
       "      <td>42674</td>\n",
       "      <td>14400.315</td>\n",
       "      <td>212.85</td>\n",
       "      <td>39</td>\n",
       "      <td>213.33</td>\n",
       "      <td>50</td>\n",
       "      <td>-1.0</td>\n",
       "      <td>-1</td>\n",
       "    </tr>\n",
       "  </tbody>\n",
       "</table>\n",
       "</div>"
      ],
      "text/plain": [
       "    date     second     bid  bidQ     ask  askQ  last  lastQ\n",
       "0  42674  14400.072  212.54     4  214.66     3  -1.0     -1\n",
       "1  42674  14400.073  212.54     4  213.60     1  -1.0     -1\n",
       "2  42674  14400.075  212.85    39  213.40    40  -1.0     -1\n",
       "3  42674  14400.102  212.85    39  213.30    50  -1.0     -1\n",
       "4  42674  14400.315  212.85    39  213.33    50  -1.0     -1"
      ]
     },
     "execution_count": 24,
     "metadata": {},
     "output_type": "execute_result"
    }
   ],
   "source": [
    "data_get(allfiles[1]).head()"
   ]
  },
  {
   "cell_type": "code",
   "execution_count": 26,
   "metadata": {},
   "outputs": [],
   "source": [
    "\n",
    "# allfiles=glob.glob(\"/Users/lin/Desktop/Study/Financial Big Data/ex6/data/*.csv.gz\")\n",
    "# nFilesPerThread=int(len(allfiles)/numthreads)\n",
    "# result_list = pool.map(data_get,allfiles)"
   ]
  },
  {
   "cell_type": "code",
   "execution_count": 8,
   "metadata": {},
   "outputs": [
    {
     "data": {
      "text/plain": [
       "<map at 0x7fcc9637d0b8>"
      ]
     },
     "execution_count": 8,
     "metadata": {},
     "output_type": "execute_result"
    }
   ],
   "source": [
    "    pool.terminate()    # free up memory\n",
    "# reduce the result into a single dict  (if needed)\n",
    "    result = {}\n",
    "    map(result.update, result_list)"
   ]
  },
  {
   "cell_type": "code",
   "execution_count": 30,
   "metadata": {},
   "outputs": [
    {
     "data": {
      "text/plain": [
       "10.404530763626099"
      ]
     },
     "execution_count": 30,
     "metadata": {},
     "output_type": "execute_result"
    }
   ],
   "source": [
    "start = time()\n",
    "for name in allfiles:\n",
    "    \n",
    "    data_get(name)\n",
    "    end = time()\n",
    "end -start"
   ]
  },
  {
   "cell_type": "code",
   "execution_count": 27,
   "metadata": {},
   "outputs": [],
   "source": [
    "from time import time\n",
    "start = time()\n",
    "worker_delayed=dask.delayed(data_get)\n",
    "alldata=[worker_delayed(fn) for fn in allfiles]\n",
    "dask.compute(alldata)\n",
    "end = time()\n",
    " end -start"
   ]
  },
  {
   "cell_type": "code",
   "execution_count": 28,
   "metadata": {},
   "outputs": [
    {
     "data": {
      "text/plain": [
       "4.638242959976196"
      ]
     },
     "execution_count": 28,
     "metadata": {},
     "output_type": "execute_result"
    }
   ],
   "source": [
    "diff "
   ]
  },
  {
   "cell_type": "code",
   "execution_count": 12,
   "metadata": {},
   "outputs": [],
   "source": [
    "dask.delayed??"
   ]
  },
  {
   "cell_type": "code",
   "execution_count": null,
   "metadata": {},
   "outputs": [],
   "source": []
  }
 ],
 "metadata": {
  "kernelspec": {
   "display_name": "Python 3",
   "language": "python",
   "name": "python3"
  },
  "language_info": {
   "codemirror_mode": {
    "name": "ipython",
    "version": 3
   },
   "file_extension": ".py",
   "mimetype": "text/x-python",
   "name": "python",
   "nbconvert_exporter": "python",
   "pygments_lexer": "ipython3",
   "version": "3.6.5"
  }
 },
 "nbformat": 4,
 "nbformat_minor": 2
}
